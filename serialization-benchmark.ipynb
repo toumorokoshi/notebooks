{
 "cells": [
  {
   "cell_type": "markdown",
   "metadata": {},
   "source": [
    "# Schema Library Showdown\n",
    "\n",
    "A simple benchmark on the performance of various schema libraries. This exercises all aspects of the library (as applicable):\n",
    "\n",
    "1. instantiating the object equivalent of a dictionary of primitive objects\n",
    "2. validating the fields\n",
    "3. converting the object to the dictionary + primitive equivalent\n",
    "\n",
    "As with all benchmarks, it is a decent indictator for your use case, but not a definite one. Benchmark your use case (fork this repo if you want!) and verify yourself before acting on these results.\n",
    "\n",
    "Here's the most recent results:\n",
    "\n",
    "    library        execution_time (seconds)    iterations\n",
    "    -----------  --------------------------  ------------\n",
    "    class_raw                    0.00889444         10000\n",
    "    class                        0.0183623          10000\n",
    "    attrs                        0.082592           10000\n",
    "    cattrs                       0.150875           10000\n",
    "    pydantic                     0.164629           10000\n",
    "    marshmallow                  0.627408           10000\n",
    "    schematics                   2.65854            10000"
   ]
  },
  {
   "cell_type": "code",
   "execution_count": 1,
   "metadata": {},
   "outputs": [],
   "source": [
    "import time\n",
    "import timeit\n",
    "\n",
    "target = {\"name\": \"Mario Luigi\", \"age\": 32}\n",
    "\n",
    "TRIALS = 10000\n",
    "\n",
    "\n",
    "def benchmark(name, func):\n",
    "    elapsed_time = timeit.timeit(func, number=TRIALS)\n",
    "    return [name, elapsed_time, TRIALS]\n",
    "\n",
    "headers = [\"library\", \"execution_time (seconds)\", \"iterations\"]\n",
    "data = []"
   ]
  },
  {
   "cell_type": "code",
   "execution_count": 2,
   "metadata": {},
   "outputs": [],
   "source": [
    "import attr\n",
    "from cattr import structure, unstructure\n",
    "\n",
    "@attr.s\n",
    "class PersonAttrs:\n",
    "    name = attr.ib(validator=[\n",
    "        attr.validators.instance_of(str)\n",
    "    ])\n",
    "    age = attr.ib(validator=[\n",
    "        attr.validators.instance_of(int)\n",
    "    ])\n",
    "    \n",
    "def attr_benchmark():\n",
    "    obj = PersonAttrs(**target)\n",
    "    result = attr.asdict(obj)\n",
    "\n",
    "def cattr_benchmark():\n",
    "    obj = structure(target, PersonAttrs)\n",
    "    result = unstructure(obj)\n",
    "    \n",
    "    \n",
    "data.append(benchmark(\"attrs\",  attr_benchmark))\n",
    "data.append(benchmark(\"cattrs\",  cattr_benchmark))"
   ]
  },
  {
   "cell_type": "code",
   "execution_count": 3,
   "metadata": {},
   "outputs": [],
   "source": [
    "class PersonClass:\n",
    "    def __init__(self, name, age):\n",
    "        if not isinstance(name, str):\n",
    "            raise ValueError(\"name is not a string\")\n",
    "        if not isinstance(age, int):\n",
    "            raise ValueError(\"age is not an integer\")\n",
    "        self.name = name\n",
    "        self.age = age \n",
    "        \n",
    "        \n",
    "class PersonClassRaw:\n",
    "    def __init__(self, name, age):\n",
    "        self.name = name\n",
    "        self.age = age\n",
    "        \n",
    "def to_dict(obj):\n",
    "    return {\n",
    "        \"name\": obj.name,\n",
    "        \"age\": obj.age\n",
    "    }\n",
    "\n",
    "\n",
    "def class_benchmark():\n",
    "    obj = PersonClass(**target)\n",
    "    result = to_dict(obj)\n",
    "    \n",
    "    \n",
    "def class_raw_benchmark():\n",
    "    obj = PersonClassRaw(**target)\n",
    "    result = to_dict(obj)\n",
    "\n",
    "data.append(benchmark(\"class\",  class_benchmark))\n",
    "data.append(benchmark(\"class_raw\",  class_raw_benchmark))"
   ]
  },
  {
   "cell_type": "code",
   "execution_count": 4,
   "metadata": {},
   "outputs": [],
   "source": [
    "from schematics.models import Model\n",
    "from schematics.types import StringType, IntType\n",
    "\n",
    "class PersonSchematics(Model):\n",
    "    name = StringType()\n",
    "    age = IntType()\n",
    "    \n",
    "\n",
    "\n",
    "\n",
    "def schematics_benchmark():\n",
    "    obj = PersonSchematics(target)\n",
    "    obj.validate()\n",
    "    result = obj.to_primitive()\n",
    "    \n",
    "data.append(benchmark(\"schematics\", schematics_benchmark))"
   ]
  },
  {
   "cell_type": "code",
   "execution_count": 5,
   "metadata": {},
   "outputs": [],
   "source": [
    "import toastedmarshmallow\n",
    "from marshmallow import Schema, fields\n",
    "\n",
    "\n",
    "class PersonMarshmallow(Schema):\n",
    "    name = fields.Str()\n",
    "    age = fields.Int()\n",
    "    \n",
    "    \n",
    "marshmallow_schema = PersonMarshmallow()\n",
    "toasted_marshmallow_schema = PersonMarshmallow()\n",
    "toasted_marshmallow_schema.jit = toastedmarshmallow.Jit\n",
    "toasted_marshmallow_cython_schema = PersonMarshmallow()\n",
    "toasted_marshmallow_cython_schema.jit = toastedmarshmallow.CythonJit\n",
    "    \n",
    "def marshmallow_benchmark():\n",
    "    obj = marshmallow_schema.load(target)\n",
    "    result = marshmallow_schema.dump(obj.data)\n",
    "    \n",
    "data.append(benchmark(\"marshmallow\", marshmallow_benchmark))\n",
    "\n",
    "def toasted_marshmallow_benchmark():\n",
    "    obj = marshmallow_schema.load(target)\n",
    "    result = marshmallow_schema.dump(obj.data)\n",
    "    \n",
    "data.append(benchmark(\"toastedmarshmallow\", toasted_marshmallow_benchmark))\n",
    "\n",
    "def toasted_marshmallow_cython_benchmark():\n",
    "    obj = marshmallow_schema.load(target)\n",
    "    result = marshmallow_schema.dump(obj.data)\n",
    "    \n",
    "data.append(benchmark(\"toastedmarshmallow (cython)\", toasted_marshmallow_cython_benchmark))"
   ]
  },
  {
   "cell_type": "code",
   "execution_count": 6,
   "metadata": {},
   "outputs": [],
   "source": [
    "import pydantic\n",
    "\n",
    "from pydantic import BaseModel\n",
    "\n",
    "class PersonPydantic(BaseModel):\n",
    "    name: str = ...\n",
    "    age: int = ...\n",
    "        \n",
    "        \n",
    "def benchmark_pydantic():\n",
    "    obj = PersonPydantic(**target)\n",
    "    reuslt = obj.dict()\n",
    "        \n",
    "data.append(benchmark(\"pydantic\", benchmark_pydantic))"
   ]
  },
  {
   "cell_type": "code",
   "execution_count": 7,
   "metadata": {
    "scrolled": true
   },
   "outputs": [
    {
     "name": "stdout",
     "output_type": "stream",
     "text": [
      "library                        execution_time (seconds)    iterations\n",
      "---------------------------  --------------------------  ------------\n",
      "class_raw                                    0.0058964          10000\n",
      "class                                        0.00783895         10000\n",
      "cattrs                                       0.035864           10000\n",
      "attrs                                        0.0568484          10000\n",
      "pydantic                                     0.130491           10000\n",
      "toastedmarshmallow                           0.319275           10000\n",
      "toastedmarshmallow (cython)                  0.321963           10000\n",
      "marshmallow                                  0.327428           10000\n",
      "schematics                                   1.19172            10000\n"
     ]
    }
   ],
   "source": [
    "import pprint\n",
    "\n",
    "from tabulate import tabulate\n",
    "table_data = [headers]\n",
    "table_data += sorted(data, key=lambda row: row[1])\n",
    "print(tabulate(table_data, headers=\"firstrow\"))"
   ]
  },
  {
   "cell_type": "code",
   "execution_count": null,
   "metadata": {},
   "outputs": [],
   "source": []
  }
 ],
 "metadata": {
  "kernelspec": {
   "display_name": "Python 3",
   "language": "python",
   "name": "python3"
  },
  "language_info": {
   "codemirror_mode": {
    "name": "ipython",
    "version": 3
   },
   "file_extension": ".py",
   "mimetype": "text/x-python",
   "name": "python",
   "nbconvert_exporter": "python",
   "pygments_lexer": "ipython3",
   "version": "3.7.2"
  }
 },
 "nbformat": 4,
 "nbformat_minor": 2
}
