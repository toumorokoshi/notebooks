{
 "cells": [
  {
   "cell_type": "markdown",
   "metadata": {},
   "source": [
    "# Aggregating Percentiles\n",
    "\n",
    "There's a lot of articles explaning how percentiles can't actually be aggregated without loss of accuracy, so I won't rehash that here. \n",
    "\n",
    "But, there is a good question around what do when you have no choice but to aggregate them. In that case, what type of aggregation is best? \n",
    "\n",
    "To begin, let's provide some basic functionality that will help us explore various scenarios."
   ]
  },
  {
   "cell_type": "code",
   "execution_count": 1,
   "metadata": {},
   "outputs": [],
   "source": [
    "# for templating and display\n",
    "from IPython.display import display\n",
    "from tabulate import tabulate\n",
    "\n",
    "from math import ceil\n",
    "\n",
    "def percentile(percentage, data_points):\n",
    "    \"\"\" return the point that is at the desired percentage \"\"\"\n",
    "    data_points = sorted(data_points)\n",
    "    point_at_percentage = ceil(len(data_points) * percentage) - 1\n",
    "    return data_points[point_at_percentage]"
   ]
  },
  {
   "cell_type": "markdown",
   "metadata": {},
   "source": [
    "And we can test our percentile with:"
   ]
  },
  {
   "cell_type": "code",
   "execution_count": 2,
   "metadata": {},
   "outputs": [
    {
     "data": {
      "text/plain": [
       "0.9867958186960467"
      ]
     },
     "execution_count": 2,
     "metadata": {},
     "output_type": "execute_result"
    }
   ],
   "source": [
    "import random\n",
    "\n",
    "# we seed with a constant, to reproduce results. but this notebook should work\n",
    "# with any value or random generator\n",
    "random.seed(0)\n",
    "SAMPLE_SIZE = 1000\n",
    "\n",
    "random_points = [random.random() for _ in range(SAMPLE_SIZE)]\n",
    "\n",
    "# should end up being around 0.99, since the points are random across 0 - 100\n",
    "percentile(0.99, random_points)"
   ]
  },
  {
   "cell_type": "markdown",
   "metadata": {},
   "source": [
    "So we've verified this function works. Now comes the fun part. Let's provide a way to randomly distribute these values across multiple bins."
   ]
  },
  {
   "cell_type": "code",
   "execution_count": 24,
   "metadata": {},
   "outputs": [
    {
     "data": {
      "text/plain": [
       "([[0.5115178653884922],\n",
       "  [0.3936127429130267],\n",
       "  [0.008691338871462118],\n",
       "  [0.022093289273050876],\n",
       "  [0.01456789862050134],\n",
       "  [0.6327591556483978],\n",
       "  [0.48255079673485],\n",
       "  [0.39654285970403247],\n",
       "  [0.10463273730043454],\n",
       "  [0.7695242006449318]],\n",
       " [0.5115178653884922,\n",
       "  0.3936127429130267,\n",
       "  0.008691338871462118,\n",
       "  0.022093289273050876,\n",
       "  0.01456789862050134,\n",
       "  0.6327591556483978,\n",
       "  0.48255079673485,\n",
       "  0.39654285970403247,\n",
       "  0.10463273730043454,\n",
       "  0.7695242006449318])"
      ]
     },
     "execution_count": 24,
     "metadata": {},
     "output_type": "execute_result"
    }
   ],
   "source": [
    "def create_bins(count, points):\n",
    "    \"\"\" return <count> bins, with <points> random points per bin \"\"\"\n",
    "    all_points = []\n",
    "    bins = []\n",
    "    for _ in range(count):\n",
    "        b = []\n",
    "        for _ in range(points):\n",
    "            p = random.random()\n",
    "            all_points.append(p)\n",
    "            b.append(p)\n",
    "        bins.append(b)\n",
    "    return bins, all_points\n",
    "\n",
    "create_bins(10, 1)"
   ]
  },
  {
   "cell_type": "markdown",
   "metadata": {},
   "source": [
    "Finally, we need a way to test these aggregations under various conditions. \n",
    "There's a few real-world scenarios that our functions should handle:\n",
    "\n",
    "### Low Data Per Bin\n",
    "\n",
    "It may happen that your percentile bins are not that accurate themselves, due to a low volume of data. For example, if each bin only recieves 10 data points, a p99 calculation cannot be accurate, as the last data point represents the worst 10 percent of the points.\n",
    "\n",
    "This scenario occurs when tracking latencies for web services. If your service is spread across multiple hosts and percentiles are calculated on a per-host basis, and you have a low-volume endpoint, often the number of requests in a short time frame (one second, even one minute) will not capture enough data.\n",
    "\n",
    "### Single Bin\n",
    "\n",
    "A single bin effectively reduces the scenario to the accuracy of the percentile itself. We won't test this scenario since no aggregation is really performed in this case.\n",
    "\n",
    "So let's write some test code that modulates:\n",
    "\n",
    "* the percentile we're trying to aggregate\n",
    "* the number of bins we're aggregating\n",
    "* the points per bin"
   ]
  },
  {
   "cell_type": "code",
   "execution_count": 33,
   "metadata": {},
   "outputs": [],
   "source": [
    "def test_percentile(aggregation_func, percentage, bin_count, point_count):\n",
    "    \"\"\" test our aggregation functionality, under different circumstances \"\"\"\n",
    "    bins, points = create_bins(bin_count, point_count)\n",
    "    percentiles = [\n",
    "            percentile(percentage, bin_points) for bin_points in bins\n",
    "    ]\n",
    "    actual_value = percentile(percentage, points)\n",
    "    return aggregation_func(percentage, percentiles), actual_value\n",
    "\n",
    "\n",
    "\n",
    "    \n",
    "def benchmark_accuracy(strategies, percentage, bin_count, point_count, trials=100000):\n",
    "    \"\"\" \n",
    "    Try each strategy <trials> times, and take the average of the accuracy \n",
    "    with the expected value. return the winner, with the accurracy per each.\n",
    "    \"\"\"\n",
    "    result_by_strategy = {}\n",
    "    for strategy in strategies:\n",
    "        total_deviation = 0\n",
    "        for _ in range(trials):\n",
    "            result, expected = test_percentile(strategy, percentage, bin_count, point_count)\n",
    "            total_deviation += abs(result - expected)\n",
    "        result_by_strategy[strategy.__name__] = total_deviation / trials\n",
    "    # note in python3.6 iteration via insertion order is now \n",
    "    # a language specification\n",
    "    winner = None\n",
    "    min_deviation = trials * percentage\n",
    "    for name, result in result_by_strategy.items(): \n",
    "        if result < min_deviation:\n",
    "            min_deviation = result\n",
    "            winner = name\n",
    "    return [winner] + list(result_by_strategy.values())"
   ]
  },
  {
   "cell_type": "code",
   "execution_count": 31,
   "metadata": {},
   "outputs": [],
   "source": [
    "BIN_COUNTS = [10, 100]\n",
    "POINT_COUNTS = [1, 10, 100]\n",
    "PERCENTAGES = [0.5, 0.95, 0.99]\n",
    "# PERCENTAGES = [0.5, 0.95, 0.99]\n",
    "# BIN_COUNTS = [1]\n",
    "# POINT_COUNTS = [1]\n",
    "\n",
    "\n",
    "def benchmark_all():\n",
    "    data = [[\"bin_count\", \"points_per_bin\", \"percentage\", \"winner\"] + [s.__name__ for s in STRATEGIES]]\n",
    "    for bin_count in BIN_COUNTS:\n",
    "        for point_count in POINT_COUNTS:\n",
    "            for percentage in PERCENTAGES:\n",
    "                print((bin_count, point_count, percentage))\n",
    "                result = benchmark_accuracy(\n",
    "                    STRATEGIES, percentage, bin_count, point_count\n",
    "                )\n",
    "                data.append([\n",
    "                    bin_count,\n",
    "                    point_count,\n",
    "                    percentage,\n",
    "                ] + result)\n",
    "    print(tabulate(data, headers=\"firstrow\"))\n",
    "  \n",
    "\n",
    "def benchmark_strategy(aggregation_func):\n",
    "    \"\"\" benchmark a single strategy against various scenarios \"\"\"\n",
    "    data = [[\"function\", \"bin\", \"points_per_bin\", \"percentage / expected\", \"result\"]]\n",
    "    for bin_count in BIN_COUNTS:\n",
    "        for point_count in POINT_COUNTS:\n",
    "            for percentage in PERCENTAGES:\n",
    "                result = test_percentile(aggregation_func, percentage,\n",
    "                                         bin_count, point_count)\n",
    "                data.append([\n",
    "                    aggregation_func.__name__, \n",
    "                    percentage,\n",
    "                    bin_count,\n",
    "                    point_count,\n",
    "                    percentage,\n",
    "                    result\n",
    "                ])\n",
    "    print(tabulate(data, headers=\"firstrow\"))"
   ]
  },
  {
   "cell_type": "markdown",
   "metadata": {},
   "source": [
    "Now we outline the strategies:"
   ]
  },
  {
   "cell_type": "code",
   "execution_count": 5,
   "metadata": {},
   "outputs": [],
   "source": [
    "def median(percentage, percentiles):\n",
    "    \"\"\" return the median point \"\"\"\n",
    "    sorted(percentiles)\n",
    "    return percentiles[len(percentiles) // 2]\n",
    "\n",
    "def average(_, percentiles):\n",
    "    return sum(percentiles) / len(percentiles)\n",
    "\n",
    "STRATEGIES = [median, average, percentile]"
   ]
  },
  {
   "cell_type": "markdown",
   "metadata": {},
   "source": [
    "## Strategy Prediction\n",
    "\n",
    "So which one will be the best? To help evaluate that, I think there's two limits to consider.\n",
    "\n",
    "At low data points, the problem reduces down to each bin containing only one, or no, data points. In this case, percentiles are the most accurate, as median and average would be taking the median and average of the bins, which would effectively take the median and average of the traffic.\n",
    "\n",
    "At a high number of data points per bin, the bins themselves are a more accurate representation of the percentiles they are capturing. As the number of data points reach infinity.."
   ]
  },
  {
   "cell_type": "code",
   "execution_count": 34,
   "metadata": {},
   "outputs": [
    {
     "name": "stdout",
     "output_type": "stream",
     "text": [
      "(10, 1, 0.5)\n",
      "(10, 1, 0.95)\n",
      "(10, 1, 0.99)\n",
      "(10, 10, 0.5)\n",
      "(10, 10, 0.95)\n",
      "(10, 10, 0.99)\n",
      "(10, 100, 0.5)\n",
      "(10, 100, 0.95)\n",
      "(10, 100, 0.99)\n",
      "(100, 1, 0.5)\n",
      "(100, 1, 0.95)\n",
      "(100, 1, 0.99)\n",
      "(100, 10, 0.5)\n",
      "(100, 10, 0.95)\n",
      "(100, 10, 0.99)\n",
      "(100, 100, 0.5)\n",
      "(100, 100, 0.95)\n",
      "(100, 100, 0.99)\n",
      "  bin_count    points_per_bin    percentage  winner         median     average    percentile\n",
      "-----------  ----------------  ------------  ----------  ---------  ----------  ------------\n",
      "         10                 1          0.5   percentile  0.227226   0.0733549     0\n",
      "         10                 1          0.95  percentile  0.408938   0.409104      0\n",
      "         10                 1          0.99  percentile  0.409241   0.408884      0\n",
      "         10                10          0.5   average     0.115681   0.042168      0.0620732\n",
      "         10                10          0.95  average     0.0582164  0.0320573     0.0496127\n",
      "         10                10          0.99  percentile  0.0732084  0.0710713     0.00989339\n",
      "         10               100          0.5   average     0.0377215  0.00589173    0.0125538\n",
      "         10               100          0.95  average     0.0179734  0.00849186    0.022125\n",
      "         10               100          0.99  percentile  0.0110652  0.00880224    0.00634031\n",
      "        100                 1          0.5   percentile  0.247548   0.0230079     0\n",
      "        100                 1          0.95  percentile  0.443122   0.440584      0\n",
      "        100                 1          0.99  percentile  0.481041   0.480241      0\n",
      "        100                10          0.5   average     0.122329   0.0450016     0.0496483\n",
      "        100                10          0.95  average     0.0619616  0.0399641     0.0448249\n",
      "        100                10          0.99  percentile  0.0808382  0.0799416     0.00900331\n",
      "        100               100          0.5   average     0.0395977  0.00490443    0.00578309\n",
      "        100               100          0.95  average     0.0189467  0.00931324    0.0227727\n",
      "        100               100          0.99  percentile  0.0118168  0.00970239    0.00807111\n"
     ]
    }
   ],
   "source": [
    "# this will take a while. This is slow in Native Python,\n",
    "# at some point it would be valuable to switch to Numpy,\n",
    "# and use the functions inside of it.\n",
    "benchmark_all()"
   ]
  }
 ],
 "metadata": {
  "kernelspec": {
   "display_name": "Python 3",
   "language": "python",
   "name": "python3"
  },
  "language_info": {
   "codemirror_mode": {
    "name": "ipython",
    "version": 3
   },
   "file_extension": ".py",
   "mimetype": "text/x-python",
   "name": "python",
   "nbconvert_exporter": "python",
   "pygments_lexer": "ipython3",
   "version": "3.6.1"
  }
 },
 "nbformat": 4,
 "nbformat_minor": 2
}
